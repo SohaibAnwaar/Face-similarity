{
 "cells": [
  {
   "cell_type": "code",
   "execution_count": 1,
   "id": "724cbf57",
   "metadata": {},
   "outputs": [
    {
     "name": "stderr",
     "output_type": "stream",
     "text": [
      "Using TensorFlow backend.\n",
      "2022-07-10 22:11:19.302714: I tensorflow/core/platform/cpu_feature_guard.cc:143] Your CPU supports instructions that this TensorFlow binary was not compiled to use: AVX2 FMA\n",
      "2022-07-10 22:11:19.319505: I tensorflow/compiler/xla/service/service.cc:168] XLA service 0x7fc4a3ac2f40 initialized for platform Host (this does not guarantee that XLA will be used). Devices:\n",
      "2022-07-10 22:11:19.319517: I tensorflow/compiler/xla/service/service.cc:176]   StreamExecutor device (0): Host, Default Version\n"
     ]
    }
   ],
   "source": [
    "# face verification with the VGGFace2 model\n",
    "import matplotlib.pyplot as plt\n",
    "from PIL import Image\n",
    "from numpy import asarray\n",
    "from scipy.spatial.distance import cosine\n",
    "from mtcnn.mtcnn import MTCNN\n",
    "from keras_vggface.vggface import VGGFace\n",
    "from keras_vggface.utils import preprocess_input\n",
    "import hashlib\n",
    "import cv2\n",
    "import numpy as np\n",
    "from face_detection.detect_face import inference as detect_face\n",
    "    \n",
    "model = VGGFace(model='senet50', include_top=False, input_shape=(224, 224, 3), pooling='avg')\n",
    "detector = MTCNN()\n",
    "cache_crop_face = dict()\n",
    "similarity_cache = dict()\n",
    "THRESH = 0.5"
   ]
  },
  {
   "cell_type": "code",
   "execution_count": 5,
   "id": "7902e7e6",
   "metadata": {},
   "outputs": [],
   "source": [
    "\n",
    "\n",
    "\n",
    "# extract a single face from a given photograph\n",
    "def extract_face(pixels):\n",
    "    \n",
    "    # detect faces in the image\n",
    "    st_time = time.time()\n",
    "    results = detector.detect_faces(pixels)\n",
    "    print(\"1. MTCNN Prediction time\", time.time() - st_time)\n",
    "    # extract the bounding box from the first face\n",
    "    \n",
    "    st_time = time.time()\n",
    "    x1, y1, width, height = results[0]['box']\n",
    "    x2, y2 = x1 + width, y1 + height\n",
    "    # extract the face\n",
    "    face = pixels[y1:y2, x1:x2]\n",
    "    \n",
    "    print(\"2. Croping face time\", time.time() - st_time)\n",
    "    \n",
    "\n",
    "    return face\n",
    " \n",
    "# extract faces and calculate face embeddings for a list of photo files\n",
    "def get_embeddings(image_hash_dict, required_size=(224, 224)):\n",
    "    st_time = time.time()\n",
    "    image_hashes = list(image_hash_dict.keys())\n",
    "    \n",
    "    # Caching cropped faces\n",
    "    for img_hash, image in image_hash_dict.items():\n",
    "        if img_hash not in cache_crop_face:\n",
    "            face = detect_face(image)\n",
    "            cache_crop_face[img_hash] = cv2.resize(face, dsize=required_size, interpolation=cv2.INTER_CUBIC).astype(np.float32)\n",
    "            plt.imshow(cache_crop_face[img_hash])\n",
    "            plt.show()\n",
    "            print(\"Cropping Faces\")\n",
    "    \n",
    "    # extract faces\n",
    "    faces = [cache_crop_face[image_hashes[0]], cache_crop_face[image_hashes[1]]]  \n",
    "    print(\"3. Get Faces time\", time.time() - st_time)\n",
    "    # convert into an array of samples\n",
    "    st_time = time.time()\n",
    "    # prepare the face for the model, e.g. center pixels\n",
    "    print(faces[0].shape)\n",
    "    print(faces[1].shape)\n",
    "    samples = preprocess_input(faces, version=2)\n",
    "    # perform prediction\n",
    "    yhat = model.predict(samples)\n",
    "    print(\"4. Similarity Prediction time\", time.time() - st_time)\n",
    "    return yhat\n",
    "\n",
    "# determine if a candidate face is a match for a known face\n",
    "def is_match(known_embedding, candidate_embedding, thresh=0.5):\n",
    "    # calculate distance between embeddings\n",
    "    score = cosine(known_embedding, candidate_embedding)\n",
    "    if score <= thresh:\n",
    "        print('>face is a Match (%.3f <= %.3f)' % (score, thresh))\n",
    "        return True, score, thresh\n",
    "    else:\n",
    "        print('>face is NOT a Match (%.3f > %.3f)' % (score, thresh))\n",
    "        return False, score, thresh\n",
    " \n"
   ]
  },
  {
   "cell_type": "code",
   "execution_count": 6,
   "id": "34375acc",
   "metadata": {},
   "outputs": [],
   "source": [
    "import time\n",
    "\n",
    "\n",
    "\n",
    "def get_similarity(images: list([np.array, np.array])) -> list([int, str]):\n",
    "    \n",
    "    \n",
    "    \n",
    "    # Getting the image hashes\n",
    "    image_hash_dict = { hashlib.md5(i.tobytes()).hexdigest() : i for i in images}\n",
    "    image_hashes = list(image_hash_dict.keys())\n",
    "    score, match = 1.0, True\n",
    "    if len(image_hash_dict) > 1:\n",
    "\n",
    "        # Checking if this image already in cache\n",
    "        for image_hash in image_hashes:\n",
    "            if image_hash in similarity_cache and search in similarity_cache[image_hash]:\n",
    "                search = set(images) - set([image_hash])\n",
    "                _, score = similarity_cache[image_hash].index(search)\n",
    "\n",
    "        # If caches result not found\n",
    "        st_time = time.time()\n",
    "        embeddings = get_embeddings(image_hash_dict)\n",
    "        print(\"\\n\\n Embedding time\", time.time() - st_time)\n",
    "        print('Positive Tests')\n",
    "\n",
    "        # Comparing embedings\n",
    "        st_time = time.time()\n",
    "        score = cosine(embeddings[0], embeddings[1])\n",
    "        match = score <= THRESH\n",
    "\n",
    "        # Caching results\n",
    "        if match: similarity_cache[image_hashes[0]] = [image_hashes[1], score]\n",
    "\n",
    "\n",
    "    return [score, match]\n",
    "        \n",
    "    \n",
    "    "
   ]
  },
  {
   "cell_type": "code",
   "execution_count": 7,
   "id": "565a5bd0",
   "metadata": {},
   "outputs": [
    {
     "name": "stderr",
     "output_type": "stream",
     "text": [
      "Clipping input data to the valid range for imshow with RGB data ([0..1] for floats or [0..255] for integers).\n"
     ]
    },
    {
     "name": "stdout",
     "output_type": "stream",
     "text": [
      "\n",
      "\n",
      " Image reading time 6.29425048828125e-05\n",
      "priors nums:4420\n"
     ]
    },
    {
     "data": {
      "image/png": "[encoded data removed]",
      "text/plain": [
       "<Figure size 432x288 with 1 Axes>"
      ]
     },
     "metadata": {
      "needs_background": "light"
     },
     "output_type": "display_data"
    },
    {
     "name": "stderr",
     "output_type": "stream",
     "text": [
      "Clipping input data to the valid range for imshow with RGB data ([0..1] for floats or [0..255] for integers).\n"
     ]
    },
    {
     "name": "stdout",
     "output_type": "stream",
     "text": [
      "Cropping Faces\n",
      "priors nums:4420\n"
     ]
    },
    {
     "data": {
      "image/png": "[encoded data removed]",
      "text/plain": [
       "<Figure size 432x288 with 1 Axes>"
      ]
     },
     "metadata": {
      "needs_background": "light"
     },
     "output_type": "display_data"
    },
    {
     "name": "stdout",
     "output_type": "stream",
     "text": [
      "Cropping Faces\n",
      "3. Get Faces time 0.2883579730987549\n",
      "(224, 224, 3)\n",
      "(224, 224, 3)\n",
      "4. Similarity Prediction time 2.343116044998169\n",
      "\n",
      "\n",
      " Embedding time 2.6316168308258057\n",
      "Positive Tests\n",
      "0.7787326276302338 False\n"
     ]
    }
   ],
   "source": [
    "image_hash_dict = dict()\n",
    "# define filenames\n",
    "st_time = time.time()\n",
    "filenames = ['/Users/sohaibanwar/Documents/face_recogination/testing_images/test3.jpeg', '/Users/sohaibanwar/Documents/face_recogination/testing_images/test2.jpeg']\n",
    "print(\"\\n\\n Image reading time\", time.time() - st_time)\n",
    "\n",
    "# reading images and creating hash\n",
    "images = [plt.imread(filename) for filename in filenames]\n",
    "score , match = get_similarity(images)\n",
    "print(score, match)\n",
    "\n"
   ]
  },
  {
   "cell_type": "code",
   "execution_count": null,
   "id": "ab8cc322",
   "metadata": {},
   "outputs": [],
   "source": []
  }
 ],
 "metadata": {
  "kernelspec": {
   "display_name": "FCR",
   "language": "python",
   "name": "fcr"
  },
  "language_info": {
   "codemirror_mode": {
    "name": "ipython",
    "version": 3
   },
   "file_extension": ".py",
   "mimetype": "text/x-python",
   "name": "python",
   "nbconvert_exporter": "python",
   "pygments_lexer": "ipython3",
   "version": "3.8.13"
  }
 },
 "nbformat": 4,
 "nbformat_minor": 5
}
